{
 "cells": [
  {
   "cell_type": "code",
   "execution_count": null,
   "id": "36d00826",
   "metadata": {},
   "outputs": [],
   "source": [
    "# importing packages\n",
    "import pandas as pd\n",
    "import glob\n",
    "import numpy as np\n",
    "import matplotlib.pyplot as plt\n",
    "from scipy import interpolate\n",
    "from scipy.interpolate import interp1d"
   ]
  },
  {
   "cell_type": "code",
   "execution_count": null,
   "id": "45703ec3",
   "metadata": {},
   "outputs": [],
   "source": [
    "%timeit\n",
    "folder_path = '/whatever/your/path/is'# path to angle-averaged data\n",
    "file_list = glob.glob(folder_path + \"/*.dat\")\n",
    "\n",
    "main_dataframe = pd.read_table(file_list[0])\n",
    "  \n",
    "for i in range(1,len(file_list)):\n",
    "    df = pd.read_table(file_list[i])\n",
    "    main_dataframe = pd.concat([main_dataframe, df], axis = 1)"
   ]
  },
  {
   "cell_type": "code",
   "execution_count": null,
   "id": "0f0f07d8",
   "metadata": {},
   "outputs": [],
   "source": [
    "type(main_dataframe)"
   ]
  },
  {
   "cell_type": "code",
   "execution_count": null,
   "id": "eedbef49",
   "metadata": {
    "scrolled": true
   },
   "outputs": [],
   "source": [
    "print(main_dataframe)"
   ]
  },
  {
   "cell_type": "code",
   "execution_count": null,
   "id": "2c672d7c",
   "metadata": {},
   "outputs": [],
   "source": [
    "main_dataframe2 = main_dataframe"
   ]
  },
  {
   "cell_type": "code",
   "execution_count": null,
   "id": "9d812fe8",
   "metadata": {},
   "outputs": [],
   "source": [
    "# creating a new csv file with\n",
    "# the dataframe we created\n",
    "main_dataframe2.to_csv('AngleAveraged_csv1.csv')"
   ]
  },
  {
   "cell_type": "code",
   "execution_count": null,
   "id": "c19748aa",
   "metadata": {},
   "outputs": [],
   "source": [
    "#-------------------------------------------------------------------------------------"
   ]
  },
  {
   "cell_type": "code",
   "execution_count": null,
   "id": "d096fa0e",
   "metadata": {},
   "outputs": [],
   "source": [
    "# Break"
   ]
  },
  {
   "cell_type": "code",
   "execution_count": null,
   "id": "1baa3719",
   "metadata": {},
   "outputs": [],
   "source": [
    "# Getting the frame of the file for one .dat file without looping over all timeframes- how many data files for the EOS?\n",
    "df1a = main_dataframe2.iloc[:,[9000]]"
   ]
  },
  {
   "cell_type": "code",
   "execution_count": null,
   "id": "c6d15562",
   "metadata": {},
   "outputs": [],
   "source": [
    "# plot main SFHo components\n",
    "df2a"
   ]
  },
  {
   "cell_type": "code",
   "execution_count": null,
   "id": "dde90947",
   "metadata": {},
   "outputs": [],
   "source": [
    "# myList\n",
    "myList= list(range(1, 11)) \n",
    "print(myList)"
   ]
  },
  {
   "cell_type": "code",
   "execution_count": null,
   "id": "7b5ab441",
   "metadata": {},
   "outputs": [],
   "source": []
  },
  {
   "cell_type": "code",
   "execution_count": null,
   "id": "12d8e004",
   "metadata": {
    "scrolled": true
   },
   "outputs": [],
   "source": [
    "# for saving the data timestamp\n",
    "\n",
    "for i in myList:\n",
    "    df1a = main_dataframe2.iloc[:,[i]]\n",
    "    df1a = df1a.iloc[-34:] \n",
    "    frame = df1a.iloc[0,0]\n",
    "    print(frame)\n",
    "    length = len(frame)\n",
    "    print(length)\n",
    "    # create a new frame string of last 6 characters\n",
    "    frame = frame[length - 6:]\n",
    "    print('Updated frame =', frame)\n",
    "    \n",
    "    \n",
    "    # Getting the timestamp\n",
    "    #timestamp\n",
    "    df1a = df1a.iloc[-28:] \n",
    "    timestamp = df1a.iloc[0,0]\n",
    "    mystr=timestamp\n",
    "    mystr=np.fromstring(mystr, sep=\" \")\n",
    "    print(mystr[0])\n",
    "    \n",
    "    # final format\n",
    "    df1a = df1a.iloc[-24:]\n",
    "    df1a = df1a.iloc[:-4]\n",
    "    print(df1a)\n",
    "    \n",
    "    \n",
    "    # Print to file \n",
    "    #np.savetxt('test'+str(mystr[0])+'.out', df1a, fmt='%s')"
   ]
  },
  {
   "cell_type": "code",
   "execution_count": null,
   "id": "73a8e06e",
   "metadata": {},
   "outputs": [],
   "source": []
  },
  {
   "cell_type": "code",
   "execution_count": null,
   "id": "19938ba8",
   "metadata": {
    "scrolled": true
   },
   "outputs": [],
   "source": [
    "# DD2 file count is 10693- SFHo file count is 9808\n",
    "sfho_count = 9808\n",
    "test_count = 50\n",
    "\n",
    "newList = list(range(0, sfho_count))\n",
    "myList= list(range(0, sfho_count)) \n",
    "\n",
    "#myList  = list(range(0, test_count))\n",
    "#newList = list(range(0, test_count))\n",
    "#print(myList)"
   ]
  },
  {
   "cell_type": "code",
   "execution_count": null,
   "id": "95800b80",
   "metadata": {},
   "outputs": [],
   "source": [
    "#create deltaT and frame/timestamp sequences\n",
    "import warnings\n",
    "\n",
    "frame_time = []\n",
    "\n",
    "def action_with_warnings():\n",
    "    warnings.warn(\"should not appear\")\n",
    "\n",
    "with warnings.catch_warnings(record=True):\n",
    "    action_with_warnings()\n",
    "\n",
    "for i in myList:\n",
    "    df1a = main_dataframe2.iloc[:,[i]]\n",
    "    df1a = df1a.iloc[-34:] \n",
    "    frame = df1a.iloc[0,0]\n",
    "    # create a new frame string of last 6 characters\n",
    "    # np.fromstring(frame, sep=' ')\n",
    "    frame = frame[len(frame) - 6:]\n",
    "    frame = float(frame)\n",
    "    #print(type(frame))\n",
    "    \n",
    "    # Identify timestamp\n",
    "    df1a = df1a.iloc[-28:] \n",
    "    timestamp = df1a.iloc[0,0]\n",
    "    mystr=timestamp\n",
    "    mystr=np.fromstring(mystr, sep=' ')\n",
    "    \n",
    "    # final format\n",
    "    df1a = df1a.iloc[-24:]\n",
    "    df1a = df1a.iloc[:-4]\n",
    "    df1a = df1a.iloc[:-4]\n",
    "    \n",
    "    np.savetxt('df1a.out', df1a, fmt='%s')\n",
    "    fh = open('df1a.out','r')\n",
    "    fh = np.loadtxt(fh)\n",
    "    \n",
    "    fh = fh.astype(float)\n",
    "    fh = fh.T\n",
    "    \n",
    "    # Adding anchor point O=(0,0,0,0,0,0,0)\n",
    "    newrow = [[0], [0], [0], [0], [0], [0], [0]]\n",
    "    newrow = np.array(newrow)\n",
    "    fh = np.hstack([newrow, fh])\n",
    "        \n",
    "    #Truncated data\n",
    "    #Loop over all the columns, y interpolant will be a 7 colummn array\n",
    "    y2      = [0,0,0,0,0,0,0]\n",
    "    yinterp = [0,0,0,0,0,0,0]\n",
    "    \n",
    "    all_result_str = np.zeros((sfho_count,501,7)) \n",
    "    \n",
    "    #create pandas dataframe\n",
    "    result_str = pd.DataFrame()\n",
    "    result_str = [0,0,0,0,0,0,0]\n",
    "    \n",
    "    # store and sort frames and timestamps\n",
    "    frame_time.append([float(frame), mystr[0]])\n",
    "    arr2 = np.asarray(frame_time, dtype=np.float64)\n",
    "    arr2.sort(axis=0)\n",
    "    \n",
    "    # Made the assumption that both quantities have been increasing monotonically \n",
    "    frames_sort = arr2[:,0]\n",
    "    timestamps_sort = arr2[:,1]\n",
    "    \n",
    "    # deltaT= dt[frame_int]\n",
    "    #print(type(arr2))\n",
    "    #frame = int(frame)\n",
    "    dt = np.empty((sfho_count,1), dtype=float)\n",
    "    \n",
    "    dt[i] = np.subtract(arr2[i,1], arr2[i-1,1]) \n",
    "    dt[0] = arr2[0,1]\n",
    "\n",
    "#print(frames_int)"
   ]
  },
  {
   "cell_type": "code",
   "execution_count": null,
   "id": "e5bf703b",
   "metadata": {},
   "outputs": [],
   "source": [
    "# make frames string and printable to the fluence filenames\n",
    "frames_int = arr3[:,0].astype(int)\n",
    "type(frames_int[:])\n",
    "\n",
    "frames_int = frames_int.astype('str')\n",
    "\n",
    "for i in newList:\n",
    "    frames_int[i] = frames_int[i].zfill(4)"
   ]
  },
  {
   "cell_type": "code",
   "execution_count": null,
   "id": "72263cb3",
   "metadata": {},
   "outputs": [],
   "source": [
    "frames_int"
   ]
  },
  {
   "cell_type": "code",
   "execution_count": null,
   "id": "eacdda1f",
   "metadata": {},
   "outputs": [],
   "source": [
    "# Extra file to store frames and times\n",
    "np.savetxt('chimeraInterFrameSFHo/frame_time.dat', np.transpose([frames_int[:], arr2[:,1]]), fmt='%s')"
   ]
  },
  {
   "cell_type": "code",
   "execution_count": null,
   "id": "1b887e97",
   "metadata": {
    "scrolled": true
   },
   "outputs": [],
   "source": [
    "#from os.path import osp\n",
    "import warnings\n",
    "\n",
    "frame_time = []\n",
    "\n",
    "def action_with_warnings():\n",
    "    warnings.warn(\"should not appear\")\n",
    "\n",
    "with warnings.catch_warnings(record=True):\n",
    "    action_with_warnings()\n",
    "\n",
    "for i in myList:\n",
    "    df1a = main_dataframe2.iloc[:,[i]]\n",
    "    df1a = df1a.iloc[-34:] \n",
    "    frame = df1a.iloc[0,0]\n",
    "    # create a new frame string of last 6 characters\n",
    "    # np.fromstring(frame, sep=' ')\n",
    "    frame = frame[len(frame) - 6:]\n",
    "    frame = float(frame)\n",
    "    \n",
    "    # Identify timestamp\n",
    "    df1a = df1a.iloc[-28:] \n",
    "    timestamp = df1a.iloc[0,0]\n",
    "    mystr=timestamp\n",
    "    mystr=np.fromstring(mystr, sep=' ')\n",
    "    \n",
    "    # final format\n",
    "    df1a = df1a.iloc[-24:]\n",
    "    df1a = df1a.iloc[:-4]\n",
    "    df1a = df1a.iloc[:-4]\n",
    "    \n",
    "    np.savetxt('df1a.out', df1a, fmt='%s')\n",
    "    fh = open('df1a.out','r')\n",
    "    fh = np.loadtxt(fh)\n",
    "    \n",
    "    fh = fh.astype(float)\n",
    "    fh = fh.T\n",
    "    \n",
    "    # Adding anchor point O=(0,0,0,0,0,0,0)\n",
    "    newrow = [[0], [0], [0], [0], [0], [0], [0]]\n",
    "    newrow = np.array(newrow)\n",
    "    fh = np.hstack([newrow, fh])\n",
    "        \n",
    "    #Truncated data\n",
    "    #Loop over all the columns, y interpolant will be a 7 colummn array\n",
    "    y2      = [0,0,0,0,0,0,0]\n",
    "    yinterp = [0,0,0,0,0,0,0]\n",
    "    \n",
    "    #create pandas dataframe\n",
    "    result_str = pd.DataFrame()\n",
    "    result_str = [0,0,0,0,0,0,0]\n",
    "    \n",
    " \n",
    "    print(i,  sep=' ', end='\\r', flush=True)\n",
    "    \n",
    "    for j in list(range(1, 7)):\n",
    "        x2 = fh[0]\n",
    "        y2[j] = fh[j]        \n",
    "\n",
    "        # Interpolate\n",
    "        plt.rcParams['figure.dpi'] = 250 \n",
    "        \n",
    "        xvals = np.linspace(0, 100, 501)\n",
    "        yinterp[j] = np.interp(xvals, x2, y2[j])\n",
    "\n",
    "        f = interpolate.interp1d(xvals, yinterp[j], fill_value=\"extrapolate\", kind='previous')\n",
    "        ynew = f(xvals)   # use interpolation function returned by `interp1d`\n",
    "\n",
    "        # Extrapolate curve from interpolated data- Then we can use np.polyfit to fit a line to these points\n",
    "        x = xvals\n",
    "        y = yinterp[j]\n",
    "\n",
    "        # Plot chimera data\n",
    "        #for x1, y1 in zip(x, y):\n",
    "        #    plt.plot(x2, y2[j], '*', color='red', markersize=6)\n",
    "\n",
    "        # interpolated\n",
    "        #for x1, y1 in zip(x, y):\n",
    "        #    plt.plot(x, y, '.', color='b', markersize=6,alpha=0.2)\n",
    " \n",
    "        #plt.xlim([0.0, 10.0])\n",
    "        #plt.show()\n",
    "\n",
    "        # Luminosities\n",
    "        result_str[j] = y*(10**(-3))*(dt[i])#ms\n",
    "        result_str[0] = x\n",
    "        #print(result_str)\n",
    "        \n",
    "        # Distance from the star to the detector on Earth- Chimera neutrino luminosities are recorded at \n",
    "        # a fiducial distance of 1000 km. Creating final term by taking into account the standard distance \n",
    "        # of 10 kiloparsecs for the detector-star distance.  \n",
    "        \n",
    "        # The standard distance is 10 parsecs (about 32.616 light-years, 308.57 petameters or 308.57 trillion km)\n",
    "        # constant 4*np.pi*(308.57*(10**17))^2 but that's for 10 parsecs. That's for meters but we want cm's. \n",
    "        # We are also working with ms so multiply by 10**(-3))\n",
    "        \n",
    "        const = (4*np.pi*(3.0857*(10**22))**2) \n",
    "        #print('print = ', const)\n",
    "        result_str[j] = result_str[j]/const\n",
    "        \n",
    "        # Convert to GeV\n",
    "        result_str[j] = result_str[j]*(10**3)\n",
    "        result_str[0] = result_str[0]/(10**3)\n",
    "        \n",
    "        #print('Timestamp', str(mystr[0]),'Neutrino channel column number',str(j))\n",
    "         \n",
    "    if (i % 400 ==0):   \n",
    "        plt.plot(x, result_str[1], '.-', color='b', markersize=3,alpha=0.6, label=\"$ \\\\nu_e $\")\n",
    "        plt.plot(x, result_str[2], ':', color='b', markersize=3,alpha=0.6, label=\"$ \\\\nu_{\\overline{e}} $\")\n",
    "        plt.plot(x, result_str[3], '.-', color='r', markersize=3,alpha=0.6, label=\"$ \\\\nu_x $\")\n",
    "        plt.plot(x, result_str[4], ':', color='r', markersize=3,alpha=0.6, label=\"$ \\\\nu_{\\overline{x}} $\")\n",
    "        #plt.plot(x, result_strF[5], '.-', color='k', markersize=3,alpha=0.6, label=\"sine\")\n",
    "        #plt.plot(x, result_strF[6], '.-', color='m', markersize=3,alpha=0.6, label=\"sine\")\n",
    "\n",
    "        plt.legend(loc=\"upper right\")\n",
    "        plt.title(\"Neutrinos, time = \" + str(timestamps_sort[i])) \n",
    "        plt.xlabel(\"Energy (MeV)\")\n",
    "        plt.ylabel(\"Neutrino Luminosity\")\n",
    "        #plt.show()\n",
    "        plt.savefig('frames/graph'+str(frames_int[i])+'.png')\n",
    "    plt.close()\n",
    "        \n",
    "    result_str = (np.array(result_str)).astype(float)\n",
    " \n",
    "    result_str = np.transpose(result_str)\n",
    "\n",
    "    #np.savetxt('chimeraInterSFHo/chimera'+str(mystr[0])+'.dat', result_str, fmt='%s')    \n",
    "    np.savetxt('fluenceChimera/chimera'+str(frames_int[i])+'.dat', result_str, fmt='%s')\n",
    "       \n",
    "print('SG grid tranformation to all Chimera files is implemented') "
   ]
  },
  {
   "cell_type": "code",
   "execution_count": null,
   "id": "434ff98b",
   "metadata": {},
   "outputs": [],
   "source": [
    "%pip install moviepy"
   ]
  },
  {
   "cell_type": "code",
   "execution_count": null,
   "id": "290c17e1",
   "metadata": {},
   "outputs": [],
   "source": [
    "pip install --user requests"
   ]
  },
  {
   "cell_type": "code",
   "execution_count": null,
   "id": "440c10af",
   "metadata": {
    "scrolled": true
   },
   "outputs": [],
   "source": [
    "import os\n",
    "import moviepy.video.io.ImageSequenceClip\n",
    "image_folder='frames'\n",
    "fps=1\n",
    "\n",
    "image_files = [os.path.join(image_folder,img)\n",
    "               for img in os.listdir(image_folder)\n",
    "               if img.endswith(\".png\")]\n",
    "clip = moviepy.video.io.ImageSequenceClip.ImageSequenceClip(image_files, fps=fps)\n",
    "clip.write_videofile('my_EOS_video.mp4')"
   ]
  },
  {
   "cell_type": "code",
   "execution_count": null,
   "id": "5191f8b2",
   "metadata": {},
   "outputs": [],
   "source": []
  },
  {
   "cell_type": "code",
   "execution_count": null,
   "id": "e626c320",
   "metadata": {},
   "outputs": [],
   "source": []
  },
  {
   "cell_type": "code",
   "execution_count": null,
   "id": "33bcbaf1",
   "metadata": {},
   "outputs": [],
   "source": []
  },
  {
   "cell_type": "markdown",
   "id": "0ef170e2",
   "metadata": {},
   "source": [
    "Sandbox area"
   ]
  },
  {
   "cell_type": "code",
   "execution_count": null,
   "id": "22a1b66b",
   "metadata": {
    "scrolled": false
   },
   "outputs": [],
   "source": [
    "# plot frames and timestamps, linestyle=' '\n",
    "arr3 = arr2\n",
    "xpoints = arr3[:,1]\n",
    "ypoints = arr3[:,0]\n",
    "\n",
    "plt.plot(xpoints, ypoints, linestyle= ' ', marker=\".\", markersize=6, color='g')\n",
    "plt.xlabel(\"Timestamp- ms since collapse\")\n",
    "plt.ylabel(\"Frame\")\n",
    "#plt.xticks(plt.xticks(0.0, 4.0, 1.0))\n",
    "#plt.xlim([1.0, 1.5])\n",
    "plt.show()"
   ]
  },
  {
   "cell_type": "code",
   "execution_count": null,
   "id": "740b8369",
   "metadata": {},
   "outputs": [],
   "source": [
    "frames_int = arr3[:,0].astype(int)"
   ]
  },
  {
   "cell_type": "code",
   "execution_count": null,
   "id": "7613c649",
   "metadata": {},
   "outputs": [],
   "source": [
    "type(frames_int[:])\n",
    "frames_int = frames_int.astype('str')\n",
    "\n",
    "for i in newList:\n",
    "    frames_int[i] = frames_int[i].zfill(4)"
   ]
  },
  {
   "cell_type": "code",
   "execution_count": null,
   "id": "95dab40d",
   "metadata": {},
   "outputs": [],
   "source": [
    "frames_int"
   ]
  },
  {
   "cell_type": "code",
   "execution_count": null,
   "id": "757210c9",
   "metadata": {
    "scrolled": true
   },
   "outputs": [],
   "source": [
    "# define delta T as dt\n",
    "dt = np.empty((sfho_count,1), dtype=float)\n",
    "dt[0] = 0.0\n",
    "print(dt)\n",
    "print(dt.shape)"
   ]
  },
  {
   "cell_type": "code",
   "execution_count": null,
   "id": "091c42c2",
   "metadata": {},
   "outputs": [],
   "source": [
    "dt[0] = 0\n",
    "for i in (newList):\n",
    "    dt[i] = np.subtract(arr3[i,1], arr3[i-1,1]) \n",
    "    dt[0] = arr3[0,1]\n",
    "print(dt)"
   ]
  },
  {
   "cell_type": "code",
   "execution_count": null,
   "id": "47bdce03",
   "metadata": {},
   "outputs": [],
   "source": [
    "print(frames_int[1])\n",
    "arr2[:,0] = arr2[:,0].astype('str')\n",
    "print(arr2[1,0])"
   ]
  },
  {
   "cell_type": "code",
   "execution_count": null,
   "id": "30fbbef3",
   "metadata": {},
   "outputs": [],
   "source": [
    "for i in newList:\n",
    "    arr2[i,0] = frames_int[i]"
   ]
  },
  {
   "cell_type": "code",
   "execution_count": null,
   "id": "a18ef8c1",
   "metadata": {},
   "outputs": [],
   "source": []
  },
  {
   "cell_type": "code",
   "execution_count": null,
   "id": "d1777a08",
   "metadata": {},
   "outputs": [],
   "source": [
    "# Test for repeating timestamps\n",
    "# Finding the length of the list\n",
    "print(len(timestamps_sort))\n",
    "# create a set from the list\n",
    "myset = set(timestamps_sort)\n",
    "print(len(myset))"
   ]
  },
  {
   "cell_type": "code",
   "execution_count": null,
   "id": "c202577f",
   "metadata": {},
   "outputs": [],
   "source": [
    "for i in myList:\n",
    "    print(timestamps_sort[i])"
   ]
  },
  {
   "cell_type": "code",
   "execution_count": null,
   "id": "a0046726",
   "metadata": {},
   "outputs": [],
   "source": []
  },
  {
   "cell_type": "code",
   "execution_count": null,
   "id": "e480154d",
   "metadata": {},
   "outputs": [],
   "source": [
    "# which one of the values repeats\n",
    "import collections\n",
    "print([item for item, count in collections.Counter(timestamps_sort).items() if count > 1])"
   ]
  },
  {
   "cell_type": "code",
   "execution_count": null,
   "id": "944c9b84",
   "metadata": {
    "scrolled": false
   },
   "outputs": [],
   "source": [
    "# plot the timestamp values in order\n",
    "nums  = list(range(0, test_count)) \n",
    "#print(nums)\n",
    "\n",
    "plt.plot(nums, dt, linestyle= ' ', marker=\".\", markersize=3, color='r')\n",
    "plt.ylabel(\"Delta T\")\n",
    "plt.xlabel(\"\")\n",
    "#plt.yscale('log', base=10)\n",
    "#plt.xticks(plt.xticks(0.0, 4.0, 1.0))\n",
    "#plt.ylim([0.0001, 0.00068])\n",
    "#plt.show()"
   ]
  },
  {
   "cell_type": "code",
   "execution_count": null,
   "id": "64adfa6f",
   "metadata": {},
   "outputs": [],
   "source": [
    "for j in myList:\n",
    "    print(dt[j])"
   ]
  },
  {
   "cell_type": "code",
   "execution_count": null,
   "id": "ec5a213b",
   "metadata": {
    "scrolled": true
   },
   "outputs": [],
   "source": [
    "print(result_str[1])"
   ]
  },
  {
   "cell_type": "code",
   "execution_count": null,
   "id": "e62a15b8",
   "metadata": {
    "scrolled": false
   },
   "outputs": [],
   "source": [
    "# Fluence \n",
    "import warnings\n",
    "\n",
    "def action_with_warnings():\n",
    "    warnings.warn(\"should not appear\")\n",
    "\n",
    "with warnings.catch_warnings(record=True):\n",
    "    action_with_warnings()\n",
    "    \n",
    "warnings.filterwarnings(\"ignore\", category=np.VisibleDeprecationWarning) \n",
    "\n",
    "#create pandas dataframe\n",
    "result_strF = pd.DataFrame()\n",
    "result_strF = np.array([0,0,0,0,0,0,0], dtype=object)\n",
    "result_strF_final =  pd.DataFrame()\n",
    "result_strF_final =  np.array([0,0,0,0,0,0,0], dtype=object)\n",
    "#result_strF_final3 =  pd.DataFrame()\n",
    "#result_strF_final3 =  np.array([0,0,0,0,0,0,0], dtype=object)\n",
    "    \n",
    "for i in myList:\n",
    "    # get results in columns\n",
    "    print(i,  sep=' ', end='\\r', flush=True)\n",
    "    \n",
    "    for j in list(range(1, 7)): \n",
    "        # Fluence\n",
    "        #print(\"i = \", i)\n",
    "        result_strF[0] =  result_str[0]\n",
    "        result_strF[j] =  np.multiply(result_str[j],arr3[i,1],dtype=object)\n",
    "        #result_strF_final = (np.array(result_strF)).astype(float)\n",
    "        \n",
    "        result_strF_final = [result_strF[0], result_strF[1], result_strF[2], result_strF[3], \\\n",
    "                             result_strF[4], result_strF[5], result_strF[6]]\n",
    "        \n",
    "        result_strF_final2 = np.transpose(result_strF_final)\n",
    "        \n",
    "        result_strF_final3 =  np.array(result_strF_final2)\n",
    "        \n",
    "        #result_strF_final = np.vstack((result_strF[0],result_strF[2]))#,result_strF[2],result_strF[3],result_strF[4],result_strF[5],result_strF[6]))\n",
    "    \n",
    "    #np.savetxt('fluenceChimera/chimera'+str(frames_int[i])+'.dat', result_strF_final3, fmt='%s')\n",
    "print('Final data with fluence addressed') "
   ]
  },
  {
   "cell_type": "code",
   "execution_count": null,
   "id": "ac5a9fba",
   "metadata": {},
   "outputs": [],
   "source": [
    "%pip install moviepy"
   ]
  },
  {
   "cell_type": "code",
   "execution_count": null,
   "id": "44ec5adb",
   "metadata": {},
   "outputs": [],
   "source": [
    "pip install --user requests"
   ]
  },
  {
   "cell_type": "code",
   "execution_count": null,
   "id": "4333d9a3",
   "metadata": {},
   "outputs": [],
   "source": [
    "# Movie\n",
    "import os\n",
    "import moviepy.video.io.ImageSequenceClip\n",
    "image_folder='frames_test'\n",
    "fps=1\n",
    "\n",
    "image_files = [os.path.join(image_folder,img)\n",
    "               for img in os.listdir(image_folder)\n",
    "               if img.endswith(\".png\")]\n",
    "clip = moviepy.video.io.ImageSequenceClip.ImageSequenceClip(image_files, fps=fps)\n",
    "clip.write_videofile('my_SFHo_video.mp4')"
   ]
  },
  {
   "cell_type": "code",
   "execution_count": null,
   "id": "e24d85b0",
   "metadata": {},
   "outputs": [],
   "source": []
  }
 ],
 "metadata": {
  "kernelspec": {
   "display_name": "Python 3 (ipykernel)",
   "language": "python",
   "name": "python3"
  },
  "language_info": {
   "codemirror_mode": {
    "name": "ipython",
    "version": 3
   },
   "file_extension": ".py",
   "mimetype": "text/x-python",
   "name": "python",
   "nbconvert_exporter": "python",
   "pygments_lexer": "ipython3",
   "version": "3.9.16"
  }
 },
 "nbformat": 4,
 "nbformat_minor": 5
}
